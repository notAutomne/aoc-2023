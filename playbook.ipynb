{
 "cells": [
  {
   "cell_type": "code",
   "execution_count": 1,
   "metadata": {},
   "outputs": [],
   "source": [
    "%load_ext autoreload\n",
    "%autoreload 2\n",
    "\n",
    "DAY = \"02\""
   ]
  },
  {
   "cell_type": "code",
   "execution_count": 2,
   "metadata": {},
   "outputs": [],
   "source": [
    "with open(f\"aoc-2023/tests/day_{DAY}/day_{DAY}_test_01.txt\") as f:\n",
    "    t01 = f.readlines()\n",
    "\n",
    "with open(f\"aoc-2023/tests/day_{DAY}/day_{DAY}_test_02.txt\") as f:\n",
    "    t02 = f.readlines()\n",
    "\n",
    "with open(f\"aoc-2023/tests/day_{DAY}/day_{DAY}_challenge.txt\") as f:\n",
    "    chal = f.readlines()\n",
    "\n",
    "challenge = t01"
   ]
  },
  {
   "cell_type": "code",
   "execution_count": 16,
   "metadata": {},
   "outputs": [],
   "source": [
    "from typing import List\n",
    "from enum import Enum\n",
    "\n",
    "\n",
    "\n",
    "class GameSet:\n",
    "    red: int = 0\n",
    "    blue: int = 0\n",
    "    green: int = 0\n",
    "\n",
    "    def __repr__(self):\n",
    "        return f\"GameSet(red={self.red}, blue={self.blue}, green={self.green})\"\n",
    "\n",
    "class Game:\n",
    "    id: int\n",
    "    game_set: List[GameSet] = []\n",
    "\n",
    "    def line_parser(self, line_to_parse: str):\n",
    "        self.id = line_to_parse.replace(\"Game \", \"\").split(\":\")[0]\n",
    "        game_sets = line_to_parse.split(\": \")[1].split(\"; \")\n",
    "        for game_set in game_sets:\n",
    "            colors = game_set.split(\", \")\n",
    "            gs = GameSet()\n",
    "            for color in colors:\n",
    "                color_name = color.split(\" \")[1]\n",
    "                color_value = int(color.split(\" \")[0])\n",
    "                match color_name:\n",
    "                    case \"red\":\n",
    "                        gs.red = color_value\n",
    "                    case \"blue\":\n",
    "                        gs.blue = color_value\n",
    "                    case \"green\":\n",
    "                        gs.green = color_value\n",
    "            self.game_set.append(gs)\n",
    "\n",
    "    def __init__(self, line: str):\n",
    "        self.line_parser(line)\n",
    "    \n",
    "    def is_possible(self, master_gameset: GameSet) -> int:\n",
    "        for game_set in self.game_set:\n",
    "            if game_set.red > master_gameset.red:\n",
    "                return 0\n",
    "            if game_set.blue > master_gameset.blue:\n",
    "                return 0\n",
    "            if game_set.green > master_gameset.green:\n",
    "                return 0\n",
    "        return self.id\n",
    "\n",
    "    def __repr__(self):\n",
    "        return f\"Game {self.id}: {self.game_set}\"\n",
    "\n",
    "games = []\n",
    "for line in example.split(\"\\n\")[0:-1]:\n",
    "    games.append(Game(line))"
   ]
  },
  {
   "cell_type": "code",
   "execution_count": 17,
   "metadata": {},
   "outputs": [
    {
     "name": "stdout",
     "output_type": "stream",
     "text": [
      "Game 1: [GameSet(red=4, blue=3, green=0), GameSet(red=1, blue=6, green=2), GameSet(red=0, blue=0, green=2), GameSet(red=0, blue=1, green=2), GameSet(red=1, blue=4, green=3), GameSet(red=0, blue=1, green=1), GameSet(red=20, blue=6, green=8), GameSet(red=4, blue=5, green=13), GameSet(red=1, blue=0, green=5), GameSet(red=3, blue=6, green=1), GameSet(red=6, blue=0, green=3), GameSet(red=14, blue=15, green=3), GameSet(red=6, blue=1, green=3), GameSet(red=1, blue=2, green=2)]\n"
     ]
    }
   ],
   "source": [
    "print(games[0])"
   ]
  }
 ],
 "metadata": {
  "kernelspec": {
   "display_name": ".venv",
   "language": "python",
   "name": "python3"
  },
  "language_info": {
   "codemirror_mode": {
    "name": "ipython",
    "version": 3
   },
   "file_extension": ".py",
   "mimetype": "text/x-python",
   "name": "python",
   "nbconvert_exporter": "python",
   "pygments_lexer": "ipython3",
   "version": "3.11.5"
  }
 },
 "nbformat": 4,
 "nbformat_minor": 2
}
